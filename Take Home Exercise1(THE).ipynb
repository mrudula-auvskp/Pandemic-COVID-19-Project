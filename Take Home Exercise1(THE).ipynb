{
 "cells": [
  {
   "cell_type": "code",
   "execution_count": 6,
   "metadata": {},
   "outputs": [],
   "source": [
    "States = ['Andaman and Nicobar', 'Andhra Pradesh', 'Arunachal Pradesh', 'Assam', 'Bihar', 'Chandigarh', 'Chhattisgarh', 'Dadra and Nagar Haveli',\n",
    "          'Delhi', 'Goa', 'Gujarat', 'Haryana', 'Himachal Pradesh', 'Jammu and Kashmir', 'Jharkhand', 'Karnataka', 'Kerala', 'Ladakh', 'Lakshadweep',\n",
    "          'Madhya Pradesh','Maharashtra','Manipur','Meghalaya','Mizoram','Nagaland','Odisha','Puducherry','Punjab','Rajasthan','Sikkim',\n",
    "          'Tamil Nadu', 'Telengana', 'Tripura', 'Uttar Pradesh', 'West Bengal', 'Uttarakhand']"
   ]
  },
  {
   "cell_type": "code",
   "execution_count": 2,
   "metadata": {},
   "outputs": [
    {
     "data": {
      "text/plain": [
       "['Andaman and Nicobar',\n",
       " 'Andhra Pradesh',\n",
       " 'Arunachal Pradesh',\n",
       " 'Assam',\n",
       " 'Bihar',\n",
       " 'Chandigarh',\n",
       " 'Chhattisgarh',\n",
       " 'Dadra and Nagar Haveli',\n",
       " 'Delhi',\n",
       " 'Goa',\n",
       " 'Gujarat',\n",
       " 'Haryana',\n",
       " 'Himachal Pradesh',\n",
       " 'Jammu and Kashmir',\n",
       " 'Jharkhand',\n",
       " 'Karnataka',\n",
       " 'Kerala',\n",
       " 'Ladakh',\n",
       " 'Lakshadweep',\n",
       " 'Madhya Pradesh',\n",
       " 'Maharashtra',\n",
       " 'Manipur',\n",
       " 'Meghalaya',\n",
       " 'Mizoram',\n",
       " 'Nagaland',\n",
       " 'Odisha',\n",
       " 'Puducherry',\n",
       " 'Punjab',\n",
       " 'Rajasthan',\n",
       " 'Sikkim',\n",
       " 'Tamil Nadu',\n",
       " 'Telengana',\n",
       " 'Tripura',\n",
       " 'Uttar Pradesh',\n",
       " 'West Bengal',\n",
       " 'Uttarakhand']"
      ]
     },
     "execution_count": 2,
     "metadata": {},
     "output_type": "execute_result"
    }
   ],
   "source": [
    "States"
   ]
  },
  {
   "cell_type": "code",
   "execution_count": 3,
   "metadata": {},
   "outputs": [],
   "source": [
    "Infected = [116,16934,252,9673,10954,457,3065,257,94695,1482,34600,16003,1033,8019,2695,19710,4964,1001,0,14297,192990,1316,62,\n",
    "            162,539,8106,802,5937,19052,102,102721,20462,1525,25797,20488,3048]"
   ]
  },
  {
   "cell_type": "code",
   "execution_count": 4,
   "metadata": {},
   "outputs": [
    {
     "data": {
      "text/plain": [
       "[116,\n",
       " 16934,\n",
       " 252,\n",
       " 9673,\n",
       " 10954,\n",
       " 457,\n",
       " 3065,\n",
       " 257,\n",
       " 94695,\n",
       " 1482,\n",
       " 34600,\n",
       " 16003,\n",
       " 1033,\n",
       " 8019,\n",
       " 2695,\n",
       " 19710,\n",
       " 4964,\n",
       " 1001,\n",
       " 0,\n",
       " 14297,\n",
       " 192990,\n",
       " 1316,\n",
       " 62,\n",
       " 162,\n",
       " 539,\n",
       " 8106,\n",
       " 802,\n",
       " 5937,\n",
       " 19052,\n",
       " 102,\n",
       " 102721,\n",
       " 20462,\n",
       " 1525,\n",
       " 25797,\n",
       " 20488,\n",
       " 3048]"
      ]
     },
     "execution_count": 4,
     "metadata": {},
     "output_type": "execute_result"
    }
   ],
   "source": [
    "Infected"
   ]
  },
  {
   "cell_type": "code",
   "execution_count": 12,
   "metadata": {},
   "outputs": [],
   "source": [
    "StatesList= {States[i]:Infected[i] for i in range(len(States))}\n"
   ]
  },
  {
   "cell_type": "code",
   "execution_count": 13,
   "metadata": {},
   "outputs": [
    {
     "data": {
      "text/plain": [
       "{'Andaman and Nicobar': 116,\n",
       " 'Andhra Pradesh': 16934,\n",
       " 'Arunachal Pradesh': 252,\n",
       " 'Assam': 9673,\n",
       " 'Bihar': 10954,\n",
       " 'Chandigarh': 457,\n",
       " 'Chhattisgarh': 3065,\n",
       " 'Dadra and Nagar Haveli': 257,\n",
       " 'Delhi': 94695,\n",
       " 'Goa': 1482,\n",
       " 'Gujarat': 34600,\n",
       " 'Haryana': 16003,\n",
       " 'Himachal Pradesh': 1033,\n",
       " 'Jammu and Kashmir': 8019,\n",
       " 'Jharkhand': 2695,\n",
       " 'Karnataka': 19710,\n",
       " 'Kerala': 4964,\n",
       " 'Ladakh': 1001,\n",
       " 'Lakshadweep': 0,\n",
       " 'Madhya Pradesh': 14297,\n",
       " 'Maharashtra': 192990,\n",
       " 'Manipur': 1316,\n",
       " 'Meghalaya': 62,\n",
       " 'Mizoram': 162,\n",
       " 'Nagaland': 539,\n",
       " 'Odisha': 8106,\n",
       " 'Puducherry': 802,\n",
       " 'Punjab': 5937,\n",
       " 'Rajasthan': 19052,\n",
       " 'Sikkim': 102,\n",
       " 'Tamil Nadu': 102721,\n",
       " 'Telengana': 20462,\n",
       " 'Tripura': 1525,\n",
       " 'Uttar Pradesh': 25797,\n",
       " 'West Bengal': 20488,\n",
       " 'Uttarakhand': 3048}"
      ]
     },
     "execution_count": 13,
     "metadata": {},
     "output_type": "execute_result"
    }
   ],
   "source": [
    "StatesList"
   ]
  },
  {
   "cell_type": "code",
   "execution_count": null,
   "metadata": {},
   "outputs": [],
   "source": []
  }
 ],
 "metadata": {
  "kernelspec": {
   "display_name": "Python 3",
   "language": "python",
   "name": "python3"
  },
  "language_info": {
   "codemirror_mode": {
    "name": "ipython",
    "version": 3
   },
   "file_extension": ".py",
   "mimetype": "text/x-python",
   "name": "python",
   "nbconvert_exporter": "python",
   "pygments_lexer": "ipython3",
   "version": "3.7.7"
  }
 },
 "nbformat": 4,
 "nbformat_minor": 4
}
