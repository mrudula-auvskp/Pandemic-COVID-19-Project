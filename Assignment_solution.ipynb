{
 "cells": [
  {
   "cell_type": "code",
   "execution_count": 8,
   "metadata": {},
   "outputs": [],
   "source": [
    "total_infected = 1234\n",
    "infected_on_12_June_20 = 13\n",
    "infected_on_11_June_20 = 2\n",
    "infected_on_10_June_20 = 12\n",
    "district = \"GWALIOR\""
   ]
  },
  {
   "cell_type": "code",
   "execution_count": 9,
   "metadata": {},
   "outputs": [],
   "source": [
    "percentage_change =((infected_on_12_June_20 - infected_on_10_June_20)/infected_on_12_June_20*100)"
   ]
  },
  {
   "cell_type": "code",
   "execution_count": 11,
   "metadata": {},
   "outputs": [
    {
     "name": "stdout",
     "output_type": "stream",
     "text": [
      "District= GWALIOR\n",
      "infected total till date 1234\n",
      "infected_on_10th_June_2020 12\n",
      "infected_on_11th_June_2020 2\n",
      "infected_on_12th_June_2020 13\n",
      "%percentage change= 7.6923076923076925\n"
     ]
    }
   ],
   "source": [
    "print(\"District=\",district)\n",
    "print(\"infected total till date\",total_infected)\n",
    "print(\"infected_on_10th_June_2020\",infected_on_10_June_20)\n",
    "print(\"infected_on_11th_June_2020\",infected_on_11_June_20)\n",
    "print(\"infected_on_12th_June_2020\",infected_on_12_June_20)\n",
    "print(\"%percentage change=\",percentage_change)"
   ]
  },
  {
   "cell_type": "code",
   "execution_count": null,
   "metadata": {},
   "outputs": [],
   "source": []
  }
 ],
 "metadata": {
  "kernelspec": {
   "display_name": "Python 3",
   "language": "python",
   "name": "python3"
  },
  "language_info": {
   "codemirror_mode": {
    "name": "ipython",
    "version": 3
   },
   "file_extension": ".py",
   "mimetype": "text/x-python",
   "name": "python",
   "nbconvert_exporter": "python",
   "pygments_lexer": "ipython3",
   "version": "3.7.7"
  },
  "toc": {
   "base_numbering": 1,
   "nav_menu": {},
   "number_sections": true,
   "sideBar": true,
   "skip_h1_title": false,
   "title_cell": "Table of Contents",
   "title_sidebar": "Contents",
   "toc_cell": false,
   "toc_position": {},
   "toc_section_display": true,
   "toc_window_display": false
  }
 },
 "nbformat": 4,
 "nbformat_minor": 2
}
